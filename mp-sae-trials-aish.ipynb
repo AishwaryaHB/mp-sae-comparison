{
 "cells": [
  {
   "cell_type": "markdown",
   "id": "1023f93d-65dc-49c8-bf1f-bf3e5ead56c0",
   "metadata": {},
   "source": [
    "#### Imports and Setup"
   ]
  },
  {
   "cell_type": "code",
   "execution_count": 1,
   "id": "e53d561f-7472-4f02-8e50-e3c8fef20e94",
   "metadata": {},
   "outputs": [
    {
     "name": "stdout",
     "output_type": "stream",
     "text": [
      "Using device: cuda\n",
      "Setup complete!\n",
      "Will test SAE widths: [5, 10, 100]\n",
      "Will test sparsity levels: [5, 10, 20, 50]\n"
     ]
    }
   ],
   "source": [
    "# Cell 1: Imports & Setup\n",
    "import numpy as np\n",
    "import torch\n",
    "import torch.nn as nn\n",
    "import torch.optim as optim\n",
    "import matplotlib.pyplot as plt\n",
    "import seaborn as sns\n",
    "from sklearn.metrics import r2_score\n",
    "from tqdm import tqdm\n",
    "import pandas as pd\n",
    "from typing import Tuple, List, Dict, Optional\n",
    "import warnings\n",
    "warnings.filterwarnings('ignore')\n",
    "\n",
    "# Set random seeds for reproducibility\n",
    "np.random.seed(42)\n",
    "torch.manual_seed(42)\n",
    "if torch.cuda.is_available():\n",
    "    torch.cuda.manual_seed(42)\n",
    "\n",
    "# Device setup\n",
    "device = torch.device('cuda' if torch.cuda.is_available() else 'cpu')\n",
    "print(f\"Using device: {device}\")\n",
    "\n",
    "# Global parameters\n",
    "D = 10  # Input dimension\n",
    "N_FEATURES = 10  # Number of orthogonal features\n",
    "BATCH_SIZE = 4096\n",
    "N_SAMPLES = 100000  # Total samples for training\n",
    "LEARNING_RATE = 5e-4  # From MP-SAE paper\n",
    "N_EPOCHS = 50\n",
    "\n",
    "# SAE configuration\n",
    "SAE_WIDTHS = [5, 10, 100]  # Number of latents\n",
    "SPARSITY_LEVELS = [5, 10, 20, 50]  # L0 targets for TopK, T steps for MP-SAE\n",
    "\n",
    "print(\"Setup complete!\")\n",
    "print(f\"Will test SAE widths: {SAE_WIDTHS}\")\n",
    "print(f\"Will test sparsity levels: {SPARSITY_LEVELS}\")"
   ]
  },
  {
   "cell_type": "markdown",
   "id": "1945081e-5b33-4026-a9d9-2076c422087d",
   "metadata": {},
   "source": [
    "#### Data generation"
   ]
  },
  {
   "cell_type": "code",
   "execution_count": 2,
   "id": "1a1f406b-5079-4498-ac2c-d4cf20c46b42",
   "metadata": {},
   "outputs": [
    {
     "name": "stdout",
     "output_type": "stream",
     "text": [
      "Hierarchical structure:\n",
      "f0 -> f1: P(f0)=0.25, P(f1|f0)=0.20\n",
      "f2 -> f3: P(f2)=0.20, P(f3|f2)=0.25\n",
      "f4 -> f5: P(f4)=0.30, P(f5|f4)=0.15\n",
      "f6 -> f7: P(f6)=0.15, P(f7|f6)=0.30\n",
      "f8 -> f9: P(f8)=0.35, P(f9|f8)=0.10\n",
      "\n",
      "Sample batch shape: torch.Size([1000, 10])\n",
      "Sample activities shape: torch.Size([1000, 10])\n",
      "Mean L0 sparsity: 1.52\n",
      "Activity rates per feature: [0.259 0.052 0.189 0.041 0.321 0.051 0.159 0.044 0.358 0.044]\n"
     ]
    }
   ],
   "source": [
    "# Cell 2: Data Generation - Hierarchical Features\n",
    "class HierarchicalDataGenerator:\n",
    "    def __init__(self, dim=10, n_features=10):\n",
    "        \"\"\"\n",
    "        Generate hierarchical feature data similar to feature hedging paper.\n",
    "        Features are organized in pairs: (f0->f1, f2->f3, f4->f5, f6->f7, f8->f9)\n",
    "        \"\"\"\n",
    "        self.dim = dim\n",
    "        self.n_features = n_features\n",
    "        assert n_features % 2 == 0, \"Number of features must be even for hierarchical pairs\"\n",
    "        \n",
    "        # Create orthogonal feature directions\n",
    "        self.feature_dirs = self._create_orthogonal_features()\n",
    "        \n",
    "        # Define hierarchical structure: parent -> child pairs\n",
    "        self.pairs = [(i, i+1) for i in range(0, n_features, 2)]\n",
    "        \n",
    "        # Set different firing probabilities for variety\n",
    "        # Parents have higher base probability than children\n",
    "        self.parent_probs = [0.25, 0.20, 0.30, 0.15, 0.35]  # f0, f2, f4, f6, f8\n",
    "        self.child_given_parent_probs = [0.2, 0.25, 0.15, 0.3, 0.1]  # f1|f0, f3|f2, etc.\n",
    "        \n",
    "        print(\"Hierarchical structure:\")\n",
    "        for i, (parent, child) in enumerate(self.pairs):\n",
    "            print(f\"f{parent} -> f{child}: P(f{parent})={self.parent_probs[i]:.2f}, \"\n",
    "                  f\"P(f{child}|f{parent})={self.child_given_parent_probs[i]:.2f}\")\n",
    "    \n",
    "    def _create_orthogonal_features(self):\n",
    "        \"\"\"Create orthogonal unit vectors as feature directions\"\"\"\n",
    "        # Use QR decomposition to get orthogonal vectors\n",
    "        random_matrix = np.random.randn(self.dim, self.n_features)\n",
    "        Q, _ = np.linalg.qr(random_matrix)\n",
    "        return Q.T  # Shape: (n_features, dim)\n",
    "    \n",
    "    def generate_batch(self, batch_size):\n",
    "        \"\"\"Generate a batch of hierarchical feature data\"\"\"\n",
    "        activations = np.zeros((batch_size, self.dim))\n",
    "        feature_activities = np.zeros((batch_size, self.n_features))\n",
    "        \n",
    "        for i in range(batch_size):\n",
    "            # For each hierarchical pair\n",
    "            for pair_idx, (parent_idx, child_idx) in enumerate(self.pairs):\n",
    "                # Sample parent activation\n",
    "                if np.random.random() < self.parent_probs[pair_idx]:\n",
    "                    # Parent fires with magnitude 1.0\n",
    "                    activations[i] += self.feature_dirs[parent_idx]\n",
    "                    feature_activities[i, parent_idx] = 1.0\n",
    "                    \n",
    "                    # Sample child activation given parent is active\n",
    "                    if np.random.random() < self.child_given_parent_probs[pair_idx]:\n",
    "                        activations[i] += self.feature_dirs[child_idx]\n",
    "                        feature_activities[i, child_idx] = 1.0\n",
    "        \n",
    "        return torch.tensor(activations, dtype=torch.float32), torch.tensor(feature_activities, dtype=torch.float32)\n",
    "    \n",
    "    def get_feature_directions(self):\n",
    "        \"\"\"Return the true feature directions for analysis\"\"\"\n",
    "        return torch.tensor(self.feature_dirs, dtype=torch.float32)\n",
    "\n",
    "# Create data generator\n",
    "data_gen = HierarchicalDataGenerator(dim=D, n_features=N_FEATURES)\n",
    "\n",
    "# Generate sample data to verify\n",
    "sample_batch, sample_activities = data_gen.generate_batch(1000)\n",
    "print(f\"\\nSample batch shape: {sample_batch.shape}\")\n",
    "print(f\"Sample activities shape: {sample_activities.shape}\")\n",
    "print(f\"Mean L0 sparsity: {sample_activities.sum(dim=1).mean():.2f}\")\n",
    "print(f\"Activity rates per feature: {sample_activities.mean(dim=0).numpy()}\")"
   ]
  },
  {
   "cell_type": "markdown",
   "id": "ea405d88-a2ba-471c-a036-2f3b7e3dba7e",
   "metadata": {},
   "source": [
    "#### Top-K SAE"
   ]
  },
  {
   "cell_type": "code",
   "execution_count": 3,
   "id": "aadac31f-0705-4df0-8e34-e51ab02df458",
   "metadata": {},
   "outputs": [
    {
     "name": "stdout",
     "output_type": "stream",
     "text": [
      "Testing TopK SAE...\n",
      "Input shape: torch.Size([32, 10])\n",
      "Reconstruction shape: torch.Size([32, 10])\n",
      "Latent shape: torch.Size([32, 20])\n",
      "Sparsity: 3.59\n",
      "TopK SAE test passed!\n"
     ]
    }
   ],
   "source": [
    "# Cell 3: TopK SAE Architecture\n",
    "class TopKSAE(nn.Module):\n",
    "    def __init__(self, input_dim, n_latents, k):\n",
    "        \"\"\"\n",
    "        TopK Sparse Autoencoder with untied weights (as per feature hedging paper)\n",
    "        \n",
    "        Args:\n",
    "            input_dim: Input dimension\n",
    "            n_latents: Number of latent features\n",
    "            k: Number of top activations to keep\n",
    "        \"\"\"\n",
    "        super().__init__()\n",
    "        self.input_dim = input_dim\n",
    "        self.n_latents = n_latents\n",
    "        self.k = k\n",
    "        \n",
    "        # Encoder and decoder (untied)\n",
    "        self.encoder = nn.Linear(input_dim, n_latents, bias=True)\n",
    "        self.decoder = nn.Linear(n_latents, input_dim, bias=True)\n",
    "        \n",
    "        # Initialize weights\n",
    "        self._init_weights()\n",
    "    \n",
    "    def _init_weights(self):\n",
    "        \"\"\"Initialize weights following SAE best practices\"\"\"\n",
    "        # Encoder: small random weights\n",
    "        nn.init.xavier_uniform_(self.encoder.weight)\n",
    "        nn.init.zeros_(self.encoder.bias)\n",
    "        \n",
    "        # Decoder: normalized columns\n",
    "        nn.init.xavier_uniform_(self.decoder.weight)\n",
    "        nn.init.zeros_(self.decoder.bias)\n",
    "        \n",
    "        # Normalize decoder columns to unit norm\n",
    "        with torch.no_grad():\n",
    "            self.decoder.weight.data = nn.functional.normalize(self.decoder.weight.data, dim=0)\n",
    "    \n",
    "    def encode(self, x):\n",
    "        \"\"\"Encode input with TopK sparsity\"\"\"\n",
    "        # Remove decoder bias (centering)\n",
    "        x_centered = x - self.decoder.bias\n",
    "        \n",
    "        # Linear projection\n",
    "        z = self.encoder(x_centered)\n",
    "        \n",
    "        # TopK sparsity\n",
    "        k_actual = min(self.k, z.size(-1))\n",
    "        topk_vals, topk_indices = torch.topk(torch.abs(z), k_actual, dim=-1)\n",
    "        \n",
    "        # Create sparse representation\n",
    "        z_sparse = torch.zeros_like(z)\n",
    "        z_sparse.scatter_(-1, topk_indices, z.gather(-1, topk_indices))\n",
    "        \n",
    "        return z_sparse\n",
    "    \n",
    "    def decode(self, z):\n",
    "        \"\"\"Decode sparse representation\"\"\"\n",
    "        return self.decoder(z)\n",
    "    \n",
    "    def forward(self, x):\n",
    "        \"\"\"Forward pass\"\"\"\n",
    "        z = self.encode(x)\n",
    "        x_recon = self.decode(z)\n",
    "        return x_recon, z\n",
    "    \n",
    "    def compute_loss(self, x, x_recon, z):\n",
    "        \"\"\"Compute reconstruction loss (no L1 penalty for TopK)\"\"\"\n",
    "        mse_loss = nn.functional.mse_loss(x_recon, x)\n",
    "        return mse_loss\n",
    "    \n",
    "    def get_sparsity(self, z):\n",
    "        \"\"\"Get actual L0 sparsity\"\"\"\n",
    "        return (z != 0).sum(dim=-1).float().mean()\n",
    "\n",
    "# Test TopK SAE\n",
    "print(\"Testing TopK SAE...\")\n",
    "test_sae = TopKSAE(input_dim=D, n_latents=20, k=5)\n",
    "test_batch, _ = data_gen.generate_batch(32)\n",
    "test_recon, test_z = test_sae(test_batch)\n",
    "print(f\"Input shape: {test_batch.shape}\")\n",
    "print(f\"Reconstruction shape: {test_recon.shape}\")\n",
    "print(f\"Latent shape: {test_z.shape}\")\n",
    "print(f\"Sparsity: {test_sae.get_sparsity(test_z):.2f}\")\n",
    "print(\"TopK SAE test passed!\")"
   ]
  },
  {
   "cell_type": "markdown",
   "id": "06f1a3ba-ad96-4951-99ba-222779601bb7",
   "metadata": {},
   "source": [
    "#### MP-SAE"
   ]
  },
  {
   "cell_type": "code",
   "execution_count": 7,
   "id": "01968c14-d256-44f8-9d45-56e5f36a672a",
   "metadata": {},
   "outputs": [
    {
     "name": "stdout",
     "output_type": "stream",
     "text": [
      "Testing MP-SAE...\n",
      "Input shape: torch.Size([32, 10])\n",
      "Reconstruction shape: torch.Size([32, 10])\n",
      "Latent shape: torch.Size([32, 20])\n",
      "Sparsity: 3.88\n",
      "MP-SAE test passed!\n",
      "\n",
      "Testing residual orthogonality...\n",
      "Orthogonality check (should be ~0): -0.000000\n"
     ]
    }
   ],
   "source": [
    "# Cell 4: MP-SAE Architecture (Algorithm 1)\n",
    "class MPSAE(nn.Module):\n",
    "    def __init__(self, input_dim, n_latents, max_steps):\n",
    "        \"\"\"\n",
    "        Matching Pursuit SAE with tied weights (as per MP-SAE paper)\n",
    "        Implements Algorithm 1 from \"From Flat to Hierarchical\" paper\n",
    "        \n",
    "        Args:\n",
    "            input_dim: Input dimension (m in paper)\n",
    "            n_latents: Dictionary size (p in paper)  \n",
    "            max_steps: Maximum MP steps (T in paper)\n",
    "        \"\"\"\n",
    "        super().__init__()\n",
    "        self.input_dim = input_dim\n",
    "        self.n_latents = n_latents\n",
    "        self.max_steps = max_steps\n",
    "        \n",
    "        # Dictionary D and bias (tied weights: encoder = decoder^T)\n",
    "        self.dictionary = nn.Parameter(torch.randn(input_dim, n_latents))\n",
    "        self.bias_pre = nn.Parameter(torch.zeros(input_dim))\n",
    "        \n",
    "        # Initialize weights\n",
    "        self._init_weights()\n",
    "    \n",
    "    def _init_weights(self):\n",
    "        \"\"\"Initialize dictionary with normalized columns\"\"\"\n",
    "        nn.init.xavier_uniform_(self.dictionary.data)\n",
    "        # Normalize dictionary columns to unit norm\n",
    "        with torch.no_grad():\n",
    "            self.dictionary.data = nn.functional.normalize(self.dictionary.data, dim=0)\n",
    "        nn.init.zeros_(self.bias_pre)\n",
    "    \n",
    "    def encode(self, x):\n",
    "        \"\"\"\n",
    "        MP encoding following Algorithm 1\n",
    "        \n",
    "        Args:\n",
    "            x: Input batch [batch_size, input_dim]\n",
    "        \n",
    "        Returns:\n",
    "            z: Sparse code [batch_size, n_latents]\n",
    "            x_recon: Final reconstruction [batch_size, input_dim]\n",
    "        \"\"\"\n",
    "        batch_size = x.size(0)\n",
    "        \n",
    "        # Algorithm 1, Line 2: Initialize residual\n",
    "        residual = x - self.bias_pre  # r^(0) = x - b_pre\n",
    "        \n",
    "        # Algorithm 1, Line 3: Initialize reconstruction  \n",
    "        x_recon = self.bias_pre.unsqueeze(0).expand(batch_size, -1)  # x̂^(0) = b_pre\n",
    "        \n",
    "        # Algorithm 1, Line 4: Initialize sparse code\n",
    "        z = torch.zeros(batch_size, self.n_latents, device=x.device)\n",
    "        \n",
    "        # Algorithm 1, Lines 5-10: MP iterations\n",
    "        for t in range(self.max_steps):\n",
    "            # Line 6: Find best matching feature j^(t) = argmax_j (D^T r^(t))_j\n",
    "            correlations = torch.matmul(residual, self.dictionary)  # [batch_size, n_latents]\n",
    "            best_indices = torch.argmax(torch.abs(correlations), dim=-1)  # [batch_size]\n",
    "            \n",
    "            # Line 7: Compute activation z_j^(t) = D_j^T r^(t)\n",
    "            batch_indices = torch.arange(batch_size, device=x.device)\n",
    "            activations = correlations[batch_indices, best_indices]  # [batch_size]\n",
    "            \n",
    "            # Update sparse code\n",
    "            z[batch_indices, best_indices] += activations\n",
    "\n",
    "            # Line 8: Update reconstruction x̂^(t+1) = x̂^(t) + z_j^(t) D_j^(t)\n",
    "            selected_dict_vectors = self.dictionary[:, best_indices].T  # [batch_size, input_dim]\n",
    "            x_recon = x_recon + activations.unsqueeze(-1) * selected_dict_vectors\n",
    "            \n",
    "            # Line 9: Update residual r^(t+1) = r^(t) - z_j^(t) D_j^(t)\n",
    "            residual = residual - activations.unsqueeze(-1) * selected_dict_vectors\n",
    "\n",
    "            \n",
    "            # Optional early stopping if residual is very small\n",
    "            if torch.norm(residual).item() < 1e-6:\n",
    "                break\n",
    "        \n",
    "        return z, x_recon\n",
    "    \n",
    "    def forward(self, x):\n",
    "        \"\"\"Forward pass\"\"\"\n",
    "        z, x_recon = self.encode(x)\n",
    "        return x_recon, z\n",
    "    \n",
    "    def compute_loss(self, x, x_recon, z):\n",
    "        \"\"\"Compute reconstruction loss (no sparsity penalty - controlled by T)\"\"\"\n",
    "        mse_loss = nn.functional.mse_loss(x_recon, x)\n",
    "        return mse_loss\n",
    "    \n",
    "    def get_sparsity(self, z):\n",
    "        \"\"\"Get actual L0 sparsity\"\"\"\n",
    "        return (z != 0).sum(dim=-1).float().mean()\n",
    "    \n",
    "    def get_dictionary(self):\n",
    "        \"\"\"Get normalized dictionary for analysis\"\"\"\n",
    "        return nn.functional.normalize(self.dictionary, dim=0)\n",
    "\n",
    "# Test MP-SAE\n",
    "# Test MP-SAE\n",
    "print(\"Testing MP-SAE...\")\n",
    "test_mp_sae = MPSAE(input_dim=D, n_latents=20, max_steps=5)\n",
    "test_batch, _ = data_gen.generate_batch(32)\n",
    "test_recon, test_z = test_mp_sae(test_batch)\n",
    "print(f\"Input shape: {test_batch.shape}\")\n",
    "print(f\"Reconstruction shape: {test_recon.shape}\")\n",
    "print(f\"Latent shape: {test_z.shape}\")\n",
    "print(f\"Sparsity: {test_mp_sae.get_sparsity(test_z):.2f}\")\n",
    "print(\"MP-SAE test passed!\")\n",
    "\n",
    "print(\"\\nTesting residual orthogonality...\")\n",
    "with torch.no_grad():\n",
    "    x_sample = test_batch[:1]                         # [1, input_dim]\n",
    "    residual = x_sample - test_mp_sae.bias_pre        # [1, input_dim]\n",
    "\n",
    "    # One MP step\n",
    "    correlations = residual @ test_mp_sae.dictionary   # [1, n_latents]\n",
    "    best_idx = torch.argmax(torch.abs(correlations), dim=-1).item()  # int\n",
    "    activation = correlations[0, best_idx]             # scalar tensor\n",
    "\n",
    "    # Pull out the atom as a 1-D vector\n",
    "    atom = test_mp_sae.dictionary[:, best_idx]         # [input_dim]\n",
    "\n",
    "    # Compute the new residual as a 1-D vector\n",
    "    new_residual = residual[0] - activation * atom      # [input_dim]\n",
    "\n",
    "    # Now you can take a proper dot product of two 1-D tensors\n",
    "    orthogonality_check = torch.dot(atom, new_residual)\n",
    "    print(f\"Orthogonality check (should be ~0): {orthogonality_check.item():.6f}\")"
   ]
  },
  {
   "cell_type": "markdown",
   "id": "e8712da9-e8e7-48ea-aed2-4067172e0201",
   "metadata": {},
   "source": [
    "#### Training functions"
   ]
  },
  {
   "cell_type": "code",
   "execution_count": 8,
   "id": "59a035ac-b3fe-432d-a77f-c578ba96e403",
   "metadata": {},
   "outputs": [
    {
     "name": "stdout",
     "output_type": "stream",
     "text": [
      "Training functions defined!\n"
     ]
    }
   ],
   "source": [
    "# Cell 5: Training Functions\n",
    "def train_sae(model, data_generator, n_epochs, batch_size, learning_rate, model_type=\"TopK\"):\n",
    "    \"\"\"\n",
    "    Train SAE model\n",
    "    \n",
    "    Args:\n",
    "        model: SAE model (TopK or MP-SAE)\n",
    "        data_generator: Data generator\n",
    "        n_epochs: Number of training epochs\n",
    "        batch_size: Batch size\n",
    "        learning_rate: Learning rate\n",
    "        model_type: \"TopK\" or \"MP-SAE\"\n",
    "    \n",
    "    Returns:\n",
    "        model: Trained model\n",
    "        losses: Training losses\n",
    "    \"\"\"\n",
    "    model = model.to(device)\n",
    "    optimizer = optim.Adam(model.parameters(), lr=learning_rate)\n",
    "    \n",
    "    # Cosine decay scheduler (as used in MP-SAE paper)\n",
    "    scheduler = optim.lr_scheduler.CosineAnnealingLR(optimizer, T_max=n_epochs, eta_min=1e-6)\n",
    "    \n",
    "    losses = []\n",
    "    n_batches_per_epoch = N_SAMPLES // batch_size\n",
    "    \n",
    "    print(f\"Training {model_type} SAE...\")\n",
    "    print(f\"Epochs: {n_epochs}, Batches per epoch: {n_batches_per_epoch}\")\n",
    "    \n",
    "    model.train()\n",
    "    for epoch in tqdm(range(n_epochs), desc=f\"Training {model_type}\"):\n",
    "        epoch_losses = []\n",
    "        \n",
    "        for batch_idx in range(n_batches_per_epoch):\n",
    "            # Generate batch\n",
    "            x_batch, _ = data_generator.generate_batch(batch_size)\n",
    "            x_batch = x_batch.to(device)\n",
    "            \n",
    "            # Forward pass\n",
    "            x_recon, z = model(x_batch)\n",
    "            \n",
    "            # Compute loss\n",
    "            loss = model.compute_loss(x_batch, x_recon, z)\n",
    "            \n",
    "            # Backward pass\n",
    "            optimizer.zero_grad()\n",
    "            loss.backward()\n",
    "            \n",
    "            # Gradient clipping\n",
    "            torch.nn.utils.clip_grad_norm_(model.parameters(), max_norm=1.0)\n",
    "            \n",
    "            optimizer.step()\n",
    "            \n",
    "            # Normalize decoder weights for TopK SAE\n",
    "            if model_type == \"TopK\":\n",
    "                with torch.no_grad():\n",
    "                    model.decoder.weight.data = nn.functional.normalize(model.decoder.weight.data, dim=0)\n",
    "            elif model_type == \"MP-SAE\":\n",
    "                # Normalize dictionary columns for MP-SAE\n",
    "                with torch.no_grad():\n",
    "                    model.dictionary.data = nn.functional.normalize(model.dictionary.data, dim=0)\n",
    "            \n",
    "            epoch_losses.append(loss.item())\n",
    "        \n",
    "        # Step scheduler\n",
    "        scheduler.step()\n",
    "        \n",
    "        avg_loss = np.mean(epoch_losses)\n",
    "        losses.append(avg_loss)\n",
    "        \n",
    "        # Print progress every 10 epochs\n",
    "        if (epoch + 1) % 10 == 0:\n",
    "            # Get sparsity on validation batch\n",
    "            with torch.no_grad():\n",
    "                val_batch, _ = data_generator.generate_batch(batch_size)\n",
    "                val_batch = val_batch.to(device)\n",
    "                _, val_z = model(val_batch)\n",
    "                sparsity = model.get_sparsity(val_z)\n",
    "            print(f\"Epoch {epoch+1}/{n_epochs}, Loss: {avg_loss:.4f}, Sparsity: {sparsity:.2f}\")\n",
    "    \n",
    "    model.eval()\n",
    "    return model, losses\n",
    "\n",
    "def evaluate_reconstruction_quality(model, data_generator, n_samples=5000):\n",
    "    \"\"\"\n",
    "    Evaluate reconstruction quality (R²)\n",
    "    \n",
    "    Args:\n",
    "        model: Trained SAE model\n",
    "        data_generator: Data generator\n",
    "        n_samples: Number of samples for evaluation\n",
    "    \n",
    "    Returns:\n",
    "        r2: R² score\n",
    "        mse: MSE\n",
    "        sparsity: Average sparsity\n",
    "    \"\"\"\n",
    "    model.eval()\n",
    "    \n",
    "    all_originals = []\n",
    "    all_reconstructions = []\n",
    "    all_sparsities = []\n",
    "    \n",
    "    n_batches = n_samples // BATCH_SIZE + 1\n",
    "    \n",
    "    with torch.no_grad():\n",
    "        for _ in range(n_batches):\n",
    "            x_batch, _ = data_generator.generate_batch(BATCH_SIZE)\n",
    "            x_batch = x_batch.to(device)\n",
    "            \n",
    "            x_recon, z = model(x_batch)\n",
    "            sparsity = model.get_sparsity(z)\n",
    "            \n",
    "            all_originals.append(x_batch.cpu())\n",
    "            all_reconstructions.append(x_recon.cpu())\n",
    "            all_sparsities.append(sparsity.cpu())\n",
    "    \n",
    "    # Concatenate and limit to n_samples\n",
    "    originals = torch.cat(all_originals)[:n_samples]\n",
    "    reconstructions = torch.cat(all_reconstructions)[:n_samples]\n",
    "    avg_sparsity = torch.stack(all_sparsities).mean()\n",
    "    \n",
    "    # Compute R² and MSE\n",
    "    r2 = r2_score(originals.numpy().flatten(), reconstructions.numpy().flatten())\n",
    "    mse = nn.functional.mse_loss(reconstructions, originals).item()\n",
    "    \n",
    "    return r2, mse, avg_sparsity.item()\n",
    "\n",
    "print(\"Training functions defined!\")"
   ]
  },
  {
   "cell_type": "markdown",
   "id": "b19c8786-0678-43b3-a521-db4f59b17e08",
   "metadata": {},
   "source": [
    "#### Initial analyses"
   ]
  },
  {
   "cell_type": "code",
   "execution_count": 9,
   "id": "aa8f2ee5-a7c5-42ad-9c63-8fbb7d11cac8",
   "metadata": {},
   "outputs": [
    {
     "name": "stdout",
     "output_type": "stream",
     "text": [
      "Starting systematic comparison...\n",
      "This will take some time - training multiple SAE configurations...\n",
      "Running basic analyses...\n"
     ]
    }
   ],
   "source": [
    "# Cell 6: Basic Analyses - Recreation of Fig. 5 and Cosine Similarity Analysis\n",
    "\n",
    "def run_systematic_comparison():\n",
    "    \"\"\"\n",
    "    Run systematic comparison across SAE widths and sparsity levels\n",
    "    Recreates Figure 5 from MP-SAE paper\n",
    "    \"\"\"\n",
    "    results = []\n",
    "    \n",
    "    for width in SAE_WIDTHS:\n",
    "        for sparsity in SPARSITY_LEVELS:\n",
    "            # Skip configurations where sparsity > width\n",
    "            if sparsity > width:\n",
    "                continue\n",
    "                \n",
    "            print(f\"\\n{'='*50}\")\n",
    "            print(f\"Training: Width={width}, Sparsity={sparsity}\")\n",
    "            print(f\"{'='*50}\")\n",
    "            \n",
    "            # Train TopK SAE\n",
    "            topk_model = TopKSAE(input_dim=D, n_latents=width, k=sparsity)\n",
    "            topk_model, topk_losses = train_sae(\n",
    "                topk_model, data_gen, N_EPOCHS, BATCH_SIZE, LEARNING_RATE, \"TopK\"\n",
    "            )\n",
    "            \n",
    "            # Train MP-SAE\n",
    "            mp_model = MPSAE(input_dim=D, n_latents=width, max_steps=sparsity)\n",
    "            mp_model, mp_losses = train_sae(\n",
    "                mp_model, data_gen, N_EPOCHS, BATCH_SIZE, LEARNING_RATE, \"MP-SAE\"\n",
    "            )\n",
    "            \n",
    "            # Evaluate both models\n",
    "            topk_r2, topk_mse, topk_sparsity = evaluate_reconstruction_quality(topk_model, data_gen)\n",
    "            mp_r2, mp_mse, mp_sparsity = evaluate_reconstruction_quality(mp_model, data_gen)\n",
    "            \n",
    "            # Store results\n",
    "            results.append({\n",
    "                'width': width,\n",
    "                'target_sparsity': sparsity,\n",
    "                'model_type': 'TopK',\n",
    "                'r2': topk_r2,\n",
    "                'mse': topk_mse,\n",
    "                'actual_sparsity': topk_sparsity,\n",
    "                'final_loss': topk_losses[-1]\n",
    "            })\n",
    "            \n",
    "            results.append({\n",
    "                'width': width,\n",
    "                'target_sparsity': sparsity,\n",
    "                'model_type': 'MP-SAE',\n",
    "                'r2': mp_r2,\n",
    "                'mse': mp_mse,\n",
    "                'actual_sparsity': mp_sparsity,\n",
    "                'final_loss': mp_losses[-1]\n",
    "            })\n",
    "            \n",
    "            print(f\"TopK - R²: {topk_r2:.3f}, MSE: {topk_mse:.4f}, Sparsity: {topk_sparsity:.1f}\")\n",
    "            print(f\"MP-SAE - R²: {mp_r2:.3f}, MSE: {mp_mse:.4f}, Sparsity: {mp_sparsity:.1f}\")\n",
    "    \n",
    "    return pd.DataFrame(results)\n",
    "\n",
    "def plot_figure_5_recreation(results_df):\n",
    "    \"\"\"\n",
    "    Plot Figure 5 recreation: R² vs Sparsity for different widths\n",
    "    \"\"\"\n",
    "    fig, axes = plt.subplots(1, len(SAE_WIDTHS), figsize=(15, 4))\n",
    "    if len(SAE_WIDTHS) == 1:\n",
    "        axes = [axes]\n",
    "    \n",
    "    colors = {'TopK': 'blue', 'MP-SAE': 'red'}\n",
    "    markers = {'TopK': 'o', 'MP-SAE': 's'}\n",
    "    \n",
    "    for i, width in enumerate(SAE_WIDTHS):\n",
    "        ax = axes[i]\n",
    "        width_data = results_df[results_df['width'] == width]\n",
    "        \n",
    "        for model_type in ['TopK', 'MP-SAE']:\n",
    "            model_data = width_data[width_data['model_type'] == model_type]\n",
    "            ax.plot(model_data['actual_sparsity'], model_data['r2'], \n",
    "                   color=colors[model_type], marker=markers[model_type], \n",
    "                   label=model_type, linewidth=2, markersize=8)\n",
    "        \n",
    "        ax.set_xlabel('Sparsity Level')\n",
    "        ax.set_ylabel('R² Score')\n",
    "        ax.set_title(f'Width = {width}')\n",
    "        ax.legend()\n",
    "        ax.grid(True, alpha=0.3)\n",
    "        ax.set_ylim(0, 1)\n",
    "    \n",
    "    plt.tight_layout()\n",
    "    plt.suptitle('Reconstruction Performance (R²) vs Sparsity Level\\n(Recreation of Fig. 5)', \n",
    "                 y=1.02, fontsize=14)\n",
    "    plt.show()\n",
    "\n",
    "def compute_cosine_similarities(model, model_type, data_generator):\n",
    "    \"\"\"\n",
    "    Compute cosine similarities between learned and true features\n",
    "    Similar to feature hedging paper analysis\n",
    "    \"\"\"\n",
    "    model.eval()\n",
    "    \n",
    "    # Get true feature directions\n",
    "    true_features = data_generator.get_feature_directions()  # [n_features, dim]\n",
    "    \n",
    "    if model_type == \"TopK\":\n",
    "        # For TopK: decoder weights are the learned features\n",
    "        learned_features = model.decoder.weight.data.cpu().T  # [n_latents, dim]\n",
    "    else:  # MP-SAE\n",
    "        # For MP-SAE: dictionary columns are the learned features\n",
    "        learned_features = model.get_dictionary().cpu().T  # [n_latents, dim]\n",
    "    \n",
    "    # Normalize features\n",
    "    true_features = nn.functional.normalize(true_features, dim=1)\n",
    "    learned_features = nn.functional.normalize(learned_features, dim=1)\n",
    "    \n",
    "    # Compute cosine similarity matrix\n",
    "    cos_sim_matrix = torch.matmul(learned_features, true_features.T)  # [n_latents, n_features]\n",
    "    \n",
    "    return cos_sim_matrix.detach().cpu().numpy()\n",
    "\n",
    "def plot_cosine_similarity_heatmaps(results_df, data_gen):\n",
    "    \"\"\"\n",
    "    Plot cosine similarity heatmaps for different configurations\n",
    "    \"\"\"\n",
    "    # Select a representative configuration for detailed analysis\n",
    "    repr_width = 20  # Use larger width for better visualization\n",
    "    repr_sparsity = 10\n",
    "    \n",
    "    print(f\"Training models for cosine similarity analysis (Width={repr_width}, Sparsity={repr_sparsity})...\")\n",
    "    \n",
    "    # Train representative models\n",
    "    topk_model = TopKSAE(input_dim=D, n_latents=repr_width, k=repr_sparsity)\n",
    "    topk_model, _ = train_sae(topk_model, data_gen, N_EPOCHS//2, BATCH_SIZE, LEARNING_RATE, \"TopK\")\n",
    "    \n",
    "    mp_model = MPSAE(input_dim=D, n_latents=repr_width, max_steps=repr_sparsity)\n",
    "    mp_model, _ = train_sae(mp_model, data_gen, N_EPOCHS//2, BATCH_SIZE, LEARNING_RATE, \"MP-SAE\")\n",
    "    \n",
    "    # Compute cosine similarities\n",
    "    topk_cos_sim = compute_cosine_similarities(topk_model, \"TopK\", data_gen)\n",
    "    mp_cos_sim = compute_cosine_similarities(mp_model, \"MP-SAE\", data_gen)\n",
    "    \n",
    "    # Plot heatmaps\n",
    "    fig, axes = plt.subplots(1, 2, figsize=(12, 5))\n",
    "    \n",
    "    # TopK heatmap\n",
    "    im1 = axes[0].imshow(topk_cos_sim, cmap='RdBu_r', vmin=-1, vmax=1, aspect='auto')\n",
    "    axes[0].set_title('TopK SAE\\nCosine Similarity: Learned vs True Features')\n",
    "    axes[0].set_xlabel('True Features')\n",
    "    axes[0].set_ylabel('Learned Latents')\n",
    "    \n",
    "    # MP-SAE heatmap  \n",
    "    im2 = axes[1].imshow(mp_cos_sim, cmap='RdBu_r', vmin=-1, vmax=1, aspect='auto')\n",
    "    axes[1].set_title('MP-SAE\\nCosine Similarity: Learned vs True Features')\n",
    "    axes[1].set_xlabel('True Features')\n",
    "    axes[1].set_ylabel('Learned Latents')\n",
    "    \n",
    "    # Add colorbar\n",
    "    plt.colorbar(im2, ax=axes, shrink=0.8, label='Cosine Similarity')\n",
    "    \n",
    "    # Add feature pair annotations\n",
    "    for i in range(0, N_FEATURES, 2):\n",
    "        axes[0].axvline(x=i+0.5, color='white', linestyle='--', alpha=0.7)\n",
    "        axes[1].axvline(x=i+0.5, color='white', linestyle='--', alpha=0.7)\n",
    "    \n",
    "    plt.tight_layout()\n",
    "    plt.show()\n",
    "    \n",
    "    return topk_cos_sim, mp_cos_sim\n",
    "\n",
    "def analyze_feature_recovery(cos_sim_matrix, model_type, threshold=0.5):\n",
    "    \"\"\"\n",
    "    Analyze how well each true feature is recovered\n",
    "    \"\"\"\n",
    "    n_latents, n_features = cos_sim_matrix.shape\n",
    "    \n",
    "    print(f\"\\n{model_type} Feature Recovery Analysis:\")\n",
    "    print(\"=\"*40)\n",
    "    \n",
    "    recovery_stats = {}\n",
    "    \n",
    "    for feat_idx in range(n_features):\n",
    "        # Find best matching latent for this feature\n",
    "        best_match_idx = np.argmax(np.abs(cos_sim_matrix[:, feat_idx]))\n",
    "        best_match_sim = cos_sim_matrix[best_match_idx, feat_idx]\n",
    "        \n",
    "        # Check if feature is well recovered\n",
    "        is_recovered = np.abs(best_match_sim) > threshold\n",
    "        \n",
    "        recovery_stats[feat_idx] = {\n",
    "            'best_latent': best_match_idx,\n",
    "            'similarity': best_match_sim,\n",
    "            'recovered': is_recovered\n",
    "        }\n",
    "        \n",
    "        status = \"✓\" if is_recovered else \"✗\"\n",
    "        print(f\"Feature f{feat_idx}: {status} Best match: Latent {best_match_idx}, \"\n",
    "              f\"Similarity: {best_match_sim:.3f}\")\n",
    "    \n",
    "    # Overall recovery rate\n",
    "    recovery_rate = sum(1 for stats in recovery_stats.values() if stats['recovered']) / n_features\n",
    "    print(f\"\\nOverall recovery rate: {recovery_rate:.2%}\")\n",
    "    \n",
    "    return recovery_stats\n",
    "\n",
    "# Run the analyses\n",
    "print(\"Starting systematic comparison...\")\n",
    "print(\"This will take some time - training multiple SAE configurations...\")\n",
    "\n",
    "# Note: For demonstration, we'll run a subset first\n",
    "print(\"Running basic analyses...\")"
   ]
  },
  {
   "cell_type": "markdown",
   "id": "c7f2f12a-6ef4-4791-9383-7691ca571598",
   "metadata": {},
   "source": [
    "#### Feature absorption and metrics analyses"
   ]
  },
  {
   "cell_type": "code",
   "execution_count": 10,
   "id": "1d1a2c3f-7b56-480b-b49a-f3c9bf4dff1b",
   "metadata": {},
   "outputs": [
    {
     "name": "stdout",
     "output_type": "stream",
     "text": [
      "Advanced analysis functions defined!\n",
      "Ready to run comprehensive feature absorption and hedging analysis!\n"
     ]
    }
   ],
   "source": [
    "# Cell 7: Advanced Analyses - Feature Absorption/Hedging Quantification\n",
    "\n",
    "def compute_absorption_hedging_metrics(cos_sim_matrix, model_type, data_gen):\n",
    "    \"\"\"\n",
    "    Quantify feature absorption and hedging based on hierarchical structure\n",
    "    \n",
    "    Feature Absorption: Child feature gets absorbed into parent's latent\n",
    "    Feature Hedging: Multiple features mix into single latent\n",
    "    \"\"\"\n",
    "    n_latents, n_features = cos_sim_matrix.shape\n",
    "    \n",
    "    absorption_scores = []\n",
    "    hedging_scores = []\n",
    "    \n",
    "    # Analyze each hierarchical pair\n",
    "    for parent_idx, child_idx in data_gen.pairs:\n",
    "        # Find best latents for parent and child\n",
    "        parent_best_latent = np.argmax(np.abs(cos_sim_matrix[:, parent_idx]))\n",
    "        child_best_latent = np.argmax(np.abs(cos_sim_matrix[:, child_idx]))\n",
    "        \n",
    "        parent_best_sim = cos_sim_matrix[parent_best_latent, parent_idx]\n",
    "        child_best_sim = cos_sim_matrix[child_best_latent, child_idx]\n",
    "        \n",
    "        # Absorption: Child feature absorbed into parent's latent\n",
    "        absorption_score = 0\n",
    "        if parent_best_latent == child_best_latent:\n",
    "            # Both features map to same latent - check if parent dominates\n",
    "            if np.abs(parent_best_sim) > np.abs(child_best_sim):\n",
    "                absorption_score = np.abs(child_best_sim)  # Child absorption strength\n",
    "        \n",
    "        # Hedging: Check if latent mixes multiple features\n",
    "        hedging_score = 0\n",
    "        for latent_idx in range(n_latents):\n",
    "            # Count how many features this latent responds to significantly\n",
    "            significant_responses = np.sum(np.abs(cos_sim_matrix[latent_idx, :]) > 0.3)\n",
    "            if significant_responses > 1:\n",
    "                # Compute hedging as entropy of responses\n",
    "                responses = np.abs(cos_sim_matrix[latent_idx, :])\n",
    "                responses = responses / np.sum(responses)  # Normalize\n",
    "                entropy = -np.sum(responses * np.log(responses + 1e-8))\n",
    "                hedging_score = max(hedging_score, entropy)\n",
    "        \n",
    "        absorption_scores.append(absorption_score)\n",
    "        hedging_scores.append(hedging_score)\n",
    "    \n",
    "    return {\n",
    "        'absorption_scores': absorption_scores,\n",
    "        'hedging_scores': hedging_scores,\n",
    "        'mean_absorption': np.mean(absorption_scores),\n",
    "        'mean_hedging': np.mean(hedging_scores)\n",
    "    }\n",
    "\n",
    "def compute_babel_scores(model, model_type):\n",
    "    \"\"\"\n",
    "    Compute Babel scores (feature interference) as in MP-SAE paper\n",
    "    \"\"\"\n",
    "    if model_type == \"TopK\":\n",
    "        dictionary = model.decoder.weight.data.cpu()  # [input_dim, n_latents]\n",
    "    else:  # MP-SAE\n",
    "        dictionary = model.dictionary.data.cpu()  # [input_dim, n_latents]\n",
    "    \n",
    "    # Normalize dictionary columns\n",
    "    dictionary = nn.functional.normalize(dictionary, dim=0)\n",
    "    \n",
    "    # Compute pairwise inner products\n",
    "    coherence_matrix = torch.matmul(dictionary.T, dictionary)  # [n_latents, n_latents]\n",
    "    \n",
    "    # Remove diagonal (self-correlations)\n",
    "    coherence_matrix.fill_diagonal_(0)\n",
    "    \n",
    "    # Babel score: maximum cumulative coherence\n",
    "    babel_scores = []\n",
    "    for r in range(1, min(10, dictionary.size(1))):  # Check orders 1 to 9\n",
    "        max_coherence = 0\n",
    "        for i in range(dictionary.size(1)):\n",
    "            # Find r features with highest correlation to feature i\n",
    "            correlations = torch.abs(coherence_matrix[i, :])\n",
    "            top_r_correlations = torch.topk(correlations, r).values\n",
    "            cumulative_coherence = torch.sum(top_r_correlations).item()\n",
    "            max_coherence = max(max_coherence, cumulative_coherence)\n",
    "        babel_scores.append(max_coherence)\n",
    "    \n",
    "    return babel_scores\n",
    "\n",
    "def analyze_reconstruction_interpretability_tradeoff(results_df):\n",
    "    \"\"\"\n",
    "    Analyze the tradeoff between reconstruction quality and feature interpretability\n",
    "    \"\"\"\n",
    "    # For each model configuration, compute interpretability score\n",
    "    interpretability_results = []\n",
    "    \n",
    "    for _, row in results_df.iterrows():\n",
    "        width = row['width']\n",
    "        sparsity = row['target_sparsity']\n",
    "        model_type = row['model_type']\n",
    "        \n",
    "        # Skip if sparsity > width\n",
    "        if sparsity > width:\n",
    "            continue\n",
    "        \n",
    "        print(f\"Analyzing interpretability: {model_type}, Width={width}, Sparsity={sparsity}\")\n",
    "        \n",
    "        # Retrain model for analysis\n",
    "        if model_type == \"TopK\":\n",
    "            model = TopKSAE(input_dim=D, n_latents=width, k=sparsity)\n",
    "        else:\n",
    "            model = MPSAE(input_dim=D, n_latents=width, max_steps=sparsity)\n",
    "        \n",
    "        # Quick training for analysis\n",
    "        model, _ = train_sae(model, data_gen, N_EPOCHS//4, BATCH_SIZE, LEARNING_RATE, model_type)\n",
    "        \n",
    "        # Compute metrics\n",
    "        cos_sim = compute_cosine_similarities(model, model_type, data_gen)\n",
    "        absorption_hedging = compute_absorption_hedging_metrics(cos_sim, model_type, data_gen)\n",
    "        babel_scores = compute_babel_scores(model, model_type)\n",
    "        \n",
    "        # Interpretability score (lower absorption/hedging = better interpretability)\n",
    "        interpretability_score = 1 / (1 + absorption_hedging['mean_absorption'] + absorption_hedging['mean_hedging'])\n",
    "        \n",
    "        interpretability_results.append({\n",
    "            'width': width,\n",
    "            'sparsity': sparsity,\n",
    "            'model_type': model_type,\n",
    "            'r2': row['r2'],\n",
    "            'interpretability': interpretability_score,\n",
    "            'absorption': absorption_hedging['mean_absorption'],\n",
    "            'hedging': absorption_hedging['mean_hedging'],\n",
    "            'babel_score_max': max(babel_scores) if babel_scores else 0\n",
    "        })\n",
    "    \n",
    "    return pd.DataFrame(interpretability_results)\n",
    "\n",
    "def plot_interpretability_tradeoff(interp_df):\n",
    "    \"\"\"\n",
    "    Plot reconstruction quality vs interpretability tradeoff\n",
    "    \"\"\"\n",
    "    fig, axes = plt.subplots(2, 2, figsize=(12, 10))\n",
    "    \n",
    "    colors = {'TopK': 'blue', 'MP-SAE': 'red'}\n",
    "    \n",
    "    # R² vs Interpretability\n",
    "    ax = axes[0, 0]\n",
    "    for model_type in ['TopK', 'MP-SAE']:\n",
    "        data = interp_df[interp_df['model_type'] == model_type]\n",
    "        ax.scatter(data['interpretability'], data['r2'], \n",
    "                  color=colors[model_type], label=model_type, s=60, alpha=0.7)\n",
    "    ax.set_xlabel('Interpretability Score')\n",
    "    ax.set_ylabel('R² Score')\n",
    "    ax.set_title('Reconstruction vs Interpretability')\n",
    "    ax.legend()\n",
    "    ax.grid(True, alpha=0.3)\n",
    "    \n",
    "    # Absorption comparison\n",
    "    ax = axes[0, 1]\n",
    "    absorption_data = interp_df.groupby('model_type')['absorption'].mean()\n",
    "    ax.bar(absorption_data.index, absorption_data.values, color=[colors[k] for k in absorption_data.index])\n",
    "    ax.set_ylabel('Mean Absorption Score')\n",
    "    ax.set_title('Feature Absorption by Model Type')\n",
    "    ax.grid(True, alpha=0.3)\n",
    "    \n",
    "    # Hedging comparison\n",
    "    ax = axes[1, 0]\n",
    "    hedging_data = interp_df.groupby('model_type')['hedging'].mean()\n",
    "    ax.bar(hedging_data.index, hedging_data.values, color=[colors[k] for k in hedging_data.index])\n",
    "    ax.set_ylabel('Mean Hedging Score')\n",
    "    ax.set_title('Feature Hedging by Model Type')\n",
    "    ax.grid(True, alpha=0.3)\n",
    "    \n",
    "    # Babel scores\n",
    "    ax = axes[1, 1]\n",
    "    babel_data = interp_df.groupby('model_type')['babel_score_max'].mean()\n",
    "    ax.bar(babel_data.index, babel_data.values, color=[colors[k] for k in babel_data.index])\n",
    "    ax.set_ylabel('Max Babel Score')\n",
    "    ax.set_title('Feature Interference (Babel Score)')\n",
    "    ax.grid(True, alpha=0.3)\n",
    "    \n",
    "    plt.tight_layout()\n",
    "    plt.show()\n",
    "\n",
    "def plot_hierarchical_structure_analysis(cos_sim_topk, cos_sim_mp):\n",
    "    \"\"\"\n",
    "    Analyze how well hierarchical structure is preserved\n",
    "    \"\"\"\n",
    "    fig, axes = plt.subplots(1, 2, figsize=(12, 5))\n",
    "    \n",
    "    # For each model, compute parent-child relationship preservation\n",
    "    models = [(\"TopK\", cos_sim_topk), (\"MP-SAE\", cos_sim_mp)]\n",
    "    \n",
    "    for idx, (model_name, cos_sim) in enumerate(models):\n",
    "        ax = axes[idx]\n",
    "        \n",
    "        # Analyze each hierarchical pair\n",
    "        pair_analysis = []\n",
    "        for i, (parent_idx, child_idx) in enumerate(data_gen.pairs):\n",
    "            # Find best latents\n",
    "            parent_best = np.argmax(np.abs(cos_sim[:, parent_idx]))\n",
    "            child_best = np.argmax(np.abs(cos_sim[:, child_idx]))\n",
    "            \n",
    "            parent_sim = cos_sim[parent_best, parent_idx]\n",
    "            child_sim = cos_sim[child_best, child_idx]\n",
    "            \n",
    "            # Check if they map to same latent (potential absorption)\n",
    "            same_latent = (parent_best == child_best)\n",
    "            \n",
    "            pair_analysis.append({\n",
    "                'pair': f'f{parent_idx}→f{child_idx}',\n",
    "                'parent_sim': parent_sim,\n",
    "                'child_sim': child_sim,\n",
    "                'same_latent': same_latent,\n",
    "                'parent_dominance': np.abs(parent_sim) - np.abs(child_sim)\n",
    "            })\n",
    "        \n",
    "        # Plot parent vs child similarities\n",
    "        parent_sims = [p['parent_sim'] for p in pair_analysis]\n",
    "        child_sims = [p['child_sim'] for p in pair_analysis]\n",
    "        colors_points = ['red' if p['same_latent'] else 'blue' for p in pair_analysis]\n",
    "        \n",
    "        ax.scatter(parent_sims, child_sims, c=colors_points, s=100, alpha=0.7)\n",
    "        \n",
    "        # Add pair labels\n",
    "        for i, p in enumerate(pair_analysis):\n",
    "            ax.annotate(p['pair'], (parent_sims[i], child_sims[i]), \n",
    "                       xytext=(5, 5), textcoords='offset points', fontsize=8)\n",
    "        \n",
    "        ax.set_xlabel('Parent Feature Similarity')\n",
    "        ax.set_ylabel('Child Feature Similarity')\n",
    "        ax.set_title(f'{model_name}\\nRed=Same Latent (Absorption), Blue=Different Latents')\n",
    "        ax.grid(True, alpha=0.3)\n",
    "        ax.axhline(y=0, color='k', linestyle='-', alpha=0.3)\n",
    "        ax.axvline(x=0, color='k', linestyle='-', alpha=0.3)\n",
    "    \n",
    "    plt.tight_layout()\n",
    "    plt.show()\n",
    "    \n",
    "    return pair_analysis\n",
    "\n",
    "print(\"Advanced analysis functions defined!\")\n",
    "print(\"Ready to run comprehensive feature absorption and hedging analysis!\")"
   ]
  },
  {
   "cell_type": "markdown",
   "id": "8ed54c1b-c348-470d-8101-0a250cd500b5",
   "metadata": {},
   "source": [
    "#### Run everything!"
   ]
  },
  {
   "cell_type": "code",
   "execution_count": 11,
   "id": "1b8338f2-f7bb-400c-b865-3ee6a3f4d92c",
   "metadata": {},
   "outputs": [
    {
     "name": "stdout",
     "output_type": "stream",
     "text": [
      "🎯 All experimental functions ready!\n",
      "\n",
      "To run the complete analysis, execute:\n",
      "results_df, interp_df, summary_stats = run_complete_analysis()\n",
      "\n",
      "For detailed single-pair analysis, execute:\n",
      "analyze_single_hierarchical_pair(pair_idx=0)\n"
     ]
    }
   ],
   "source": [
    "# Cell 8: Run Complete Experiments\n",
    "\n",
    "def run_complete_analysis():\n",
    "    \"\"\"\n",
    "    Run the complete experimental analysis comparing TopK SAE vs MP-SAE\n",
    "    \"\"\"\n",
    "    print(\"🚀 Starting Complete SAE Comparison Analysis\")\n",
    "    print(\"=\" * 60)\n",
    "    \n",
    "    # Step 1: Run systematic comparison (Figure 5 recreation)\n",
    "    print(\"\\n📊 Step 1: Running systematic comparison across configurations...\")\n",
    "    print(\"⚠️  This will take some time - training multiple SAE configurations\")\n",
    "    \n",
    "    # For demonstration, let's run a smaller subset first\n",
    "    global SAE_WIDTHS, SPARSITY_LEVELS, N_EPOCHS\n",
    "    \n",
    "    # Reduced parameters for faster demonstration\n",
    "    original_widths = SAE_WIDTHS.copy()\n",
    "    original_sparsity = SPARSITY_LEVELS.copy()\n",
    "    original_epochs = N_EPOCHS\n",
    "    \n",
    "    # Use smaller configuration for initial run\n",
    "    SAE_WIDTHS = [10, 20]  # Reduced from [5, 10, 100]\n",
    "    SPARSITY_LEVELS = [5, 10]  # Reduced from [5, 10, 20, 50]\n",
    "    N_EPOCHS = 20  # Reduced from 50\n",
    "    \n",
    "    print(f\"Using reduced config: Widths={SAE_WIDTHS}, Sparsity={SPARSITY_LEVELS}, Epochs={N_EPOCHS}\")\n",
    "    \n",
    "    # Run systematic comparison\n",
    "    results_df = run_systematic_comparison()\n",
    "    \n",
    "    # Step 2: Plot Figure 5 recreation\n",
    "    print(\"\\n📈 Step 2: Plotting reconstruction performance comparison...\")\n",
    "    plot_figure_5_recreation(results_df)\n",
    "    \n",
    "    # Step 3: Cosine similarity analysis\n",
    "    print(\"\\n🎯 Step 3: Analyzing cosine similarities...\")\n",
    "    topk_cos_sim, mp_cos_sim = plot_cosine_similarity_heatmaps(results_df, data_gen)\n",
    "    \n",
    "    # Step 4: Feature recovery analysis\n",
    "    print(\"\\n🔍 Step 4: Analyzing feature recovery...\")\n",
    "    topk_recovery = analyze_feature_recovery(topk_cos_sim, \"TopK\")\n",
    "    mp_recovery = analyze_feature_recovery(mp_cos_sim, \"MP-SAE\")\n",
    "    \n",
    "    # Step 5: Hierarchical structure analysis\n",
    "    print(\"\\n🌳 Step 5: Analyzing hierarchical structure preservation...\")\n",
    "    pair_analysis = plot_hierarchical_structure_analysis(topk_cos_sim, mp_cos_sim)\n",
    "    \n",
    "    # Step 6: Advanced interpretability analysis\n",
    "    print(\"\\n🧠 Step 6: Running interpretability vs reconstruction tradeoff analysis...\")\n",
    "    interp_df = analyze_reconstruction_interpretability_tradeoff(results_df)\n",
    "    plot_interpretability_tradeoff(interp_df)\n",
    "    \n",
    "    # Step 7: Summary statistics\n",
    "    print(\"\\n📋 Step 7: Summary Statistics\")\n",
    "    print(\"=\" * 40)\n",
    "    \n",
    "    summary_stats = {}\n",
    "    \n",
    "    for model_type in ['TopK', 'MP-SAE']:\n",
    "        model_results = results_df[results_df['model_type'] == model_type]\n",
    "        model_interp = interp_df[interp_df['model_type'] == model_type]\n",
    "        \n",
    "        summary_stats[model_type] = {\n",
    "            'mean_r2': model_results['r2'].mean(),\n",
    "            'std_r2': model_results['r2'].std(),\n",
    "            'mean_absorption': model_interp['absorption'].mean(),\n",
    "            'mean_hedging': model_interp['hedging'].mean(),\n",
    "            'mean_interpretability': model_interp['interpretability'].mean()\n",
    "        }\n",
    "        \n",
    "        print(f\"\\n{model_type} Summary:\")\n",
    "        print(f\"  Mean R²: {summary_stats[model_type]['mean_r2']:.3f} ± {summary_stats[model_type]['std_r2']:.3f}\")\n",
    "        print(f\"  Mean Absorption: {summary_stats[model_type]['mean_absorption']:.3f}\")\n",
    "        print(f\"  Mean Hedging: {summary_stats[model_type]['mean_hedging']:.3f}\")\n",
    "        print(f\"  Mean Interpretability: {summary_stats[model_type]['mean_interpretability']:.3f}\")\n",
    "    \n",
    "    # Step 8: Key findings\n",
    "    print(\"\\n🔑 Key Findings:\")\n",
    "    print(\"=\" * 30)\n",
    "    \n",
    "    r2_diff = summary_stats['MP-SAE']['mean_r2'] - summary_stats['TopK']['mean_r2']\n",
    "    absorption_diff = summary_stats['TopK']['mean_absorption'] - summary_stats['MP-SAE']['mean_absorption']\n",
    "    hedging_diff = summary_stats['TopK']['mean_hedging'] - summary_stats['MP-SAE']['mean_hedging']\n",
    "    \n",
    "    print(f\"1. Reconstruction Quality: MP-SAE {'outperforms' if r2_diff > 0 else 'underperforms'} TopK by {abs(r2_diff):.3f} R²\")\n",
    "    print(f\"2. Feature Absorption: TopK shows {'more' if absorption_diff < 0 else 'less'} absorption (diff: {absorption_diff:.3f})\")\n",
    "    print(f\"3. Feature Hedging: TopK shows {'more' if hedging_diff < 0 else 'less'} hedging (diff: {hedging_diff:.3f})\")\n",
    "    \n",
    "    # Restore original parameters\n",
    "    SAE_WIDTHS = original_widths\n",
    "    SPARSITY_LEVELS = original_sparsity\n",
    "    N_EPOCHS = original_epochs\n",
    "    \n",
    "    return results_df, interp_df, summary_stats\n",
    "\n",
    "# Additional utility function for detailed single-pair analysis\n",
    "def analyze_single_hierarchical_pair(pair_idx=0, width=20, sparsity=10):\n",
    "    \"\"\"\n",
    "    Detailed analysis of a single hierarchical pair\n",
    "    \"\"\"\n",
    "    parent_idx, child_idx = data_gen.pairs[pair_idx]\n",
    "    \n",
    "    print(f\"\\n🔬 Detailed Analysis: f{parent_idx} → f{child_idx}\")\n",
    "    print(\"=\" * 50)\n",
    "    \n",
    "    # Train models\n",
    "    print(\"Training models for detailed analysis...\")\n",
    "    \n",
    "    topk_model = TopKSAE(input_dim=D, n_latents=width, k=sparsity)\n",
    "    topk_model, _ = train_sae(topk_model, data_gen, N_EPOCHS//2, BATCH_SIZE, LEARNING_RATE, \"TopK\")\n",
    "    \n",
    "    mp_model = MPSAE(input_dim=D, n_latents=width, max_steps=sparsity)\n",
    "    mp_model, _ = train_sae(mp_model, data_gen, N_EPOCHS//2, BATCH_SIZE, LEARNING_RATE, \"MP-SAE\")\n",
    "    \n",
    "    # Analyze how this specific pair is handled\n",
    "    models = [(\"TopK\", topk_model), (\"MP-SAE\", mp_model)]\n",
    "    \n",
    "    for model_name, model in models:\n",
    "        print(f\"\\n{model_name} Analysis:\")\n",
    "        print(\"-\" * 20)\n",
    "        \n",
    "        cos_sim = compute_cosine_similarities(model, model_name, data_gen)\n",
    "        \n",
    "        # Find best matches for parent and child\n",
    "        parent_best_latent = np.argmax(np.abs(cos_sim[:, parent_idx]))\n",
    "        child_best_latent = np.argmax(np.abs(cos_sim[:, child_idx]))\n",
    "        \n",
    "        parent_sim = cos_sim[parent_best_latent, parent_idx]\n",
    "        child_sim = cos_sim[child_best_latent, child_idx]\n",
    "        \n",
    "        print(f\"Parent f{parent_idx}: Best latent {parent_best_latent}, Similarity {parent_sim:.3f}\")\n",
    "        print(f\"Child f{child_idx}: Best latent {child_best_latent}, Similarity {child_sim:.3f}\")\n",
    "        \n",
    "        if parent_best_latent == child_best_latent:\n",
    "            print(f\"⚠️  ABSORPTION DETECTED: Both features map to latent {parent_best_latent}\")\n",
    "            print(f\"   Parent dominance: {np.abs(parent_sim) - np.abs(child_sim):.3f}\")\n",
    "        else:\n",
    "            print(f\"✅ Features separated into different latents\")\n",
    "        \n",
    "        # Check for hedging in the best latents\n",
    "        parent_latent_responses = cos_sim[parent_best_latent, :]\n",
    "        child_latent_responses = cos_sim[child_best_latent, :]\n",
    "        \n",
    "        parent_multi_response = np.sum(np.abs(parent_latent_responses) > 0.3)\n",
    "        child_multi_response = np.sum(np.abs(child_latent_responses) > 0.3)\n",
    "        \n",
    "        if parent_multi_response > 1:\n",
    "            print(f\"⚠️  HEDGING in parent latent: responds to {parent_multi_response} features\")\n",
    "        if child_multi_response > 1:\n",
    "            print(f\"⚠️  HEDGING in child latent: responds to {child_multi_response} features\")\n",
    "\n",
    "print(\"🎯 All experimental functions ready!\")\n",
    "print(\"\\nTo run the complete analysis, execute:\")\n",
    "print(\"results_df, interp_df, summary_stats = run_complete_analysis()\")\n",
    "print(\"\\nFor detailed single-pair analysis, execute:\")\n",
    "print(\"analyze_single_hierarchical_pair(pair_idx=0)\")"
   ]
  },
  {
   "cell_type": "code",
   "execution_count": 12,
   "id": "503ad306-4385-4b86-b854-9e9fe875103f",
   "metadata": {},
   "outputs": [
    {
     "name": "stdout",
     "output_type": "stream",
     "text": [
      "🚀 Starting Complete SAE Comparison Analysis\n",
      "============================================================\n",
      "\n",
      "📊 Step 1: Running systematic comparison across configurations...\n",
      "⚠️  This will take some time - training multiple SAE configurations\n",
      "Using reduced config: Widths=[10, 20], Sparsity=[5, 10], Epochs=20\n",
      "\n",
      "==================================================\n",
      "Training: Width=10, Sparsity=5\n",
      "==================================================\n",
      "Training TopK SAE...\n",
      "Epochs: 20, Batches per epoch: 24\n"
     ]
    },
    {
     "name": "stderr",
     "output_type": "stream",
     "text": [
      "Training TopK:  50%|██████████████              | 10/20 [00:06<00:06,  1.62it/s]"
     ]
    },
    {
     "name": "stdout",
     "output_type": "stream",
     "text": [
      "Epoch 10/20, Loss: 0.0969, Sparsity: 5.00\n"
     ]
    },
    {
     "name": "stderr",
     "output_type": "stream",
     "text": [
      "Training TopK: 100%|████████████████████████████| 20/20 [00:12<00:00,  1.67it/s]\n"
     ]
    },
    {
     "name": "stdout",
     "output_type": "stream",
     "text": [
      "Epoch 20/20, Loss: 0.0804, Sparsity: 5.00\n",
      "Training MP-SAE SAE...\n",
      "Epochs: 20, Batches per epoch: 24\n"
     ]
    },
    {
     "name": "stderr",
     "output_type": "stream",
     "text": [
      "Training MP-SAE:  50%|█████████████             | 10/20 [00:07<00:07,  1.39it/s]"
     ]
    },
    {
     "name": "stdout",
     "output_type": "stream",
     "text": [
      "Epoch 10/20, Loss: 0.0195, Sparsity: 4.83\n"
     ]
    },
    {
     "name": "stderr",
     "output_type": "stream",
     "text": [
      "Training MP-SAE: 100%|██████████████████████████| 20/20 [00:15<00:00,  1.33it/s]\n"
     ]
    },
    {
     "name": "stdout",
     "output_type": "stream",
     "text": [
      "Epoch 20/20, Loss: 0.0170, Sparsity: 4.88\n",
      "TopK - R²: 0.454, MSE: 0.0800, Sparsity: 5.0\n",
      "MP-SAE - R²: 0.883, MSE: 0.0171, Sparsity: 4.9\n",
      "\n",
      "==================================================\n",
      "Training: Width=10, Sparsity=10\n",
      "==================================================\n",
      "Training TopK SAE...\n",
      "Epochs: 20, Batches per epoch: 24\n"
     ]
    },
    {
     "name": "stderr",
     "output_type": "stream",
     "text": [
      "Training TopK:  50%|██████████████              | 10/20 [00:06<00:06,  1.64it/s]"
     ]
    },
    {
     "name": "stdout",
     "output_type": "stream",
     "text": [
      "Epoch 10/20, Loss: 0.1265, Sparsity: 10.00\n"
     ]
    },
    {
     "name": "stderr",
     "output_type": "stream",
     "text": [
      "Training TopK: 100%|████████████████████████████| 20/20 [00:11<00:00,  1.68it/s]\n"
     ]
    },
    {
     "name": "stdout",
     "output_type": "stream",
     "text": [
      "Epoch 20/20, Loss: 0.1010, Sparsity: 10.00\n",
      "Training MP-SAE SAE...\n",
      "Epochs: 20, Batches per epoch: 24\n"
     ]
    },
    {
     "name": "stderr",
     "output_type": "stream",
     "text": [
      "Training MP-SAE:  50%|█████████████             | 10/20 [00:08<00:08,  1.16it/s]"
     ]
    },
    {
     "name": "stdout",
     "output_type": "stream",
     "text": [
      "Epoch 10/20, Loss: 0.0063, Sparsity: 7.15\n"
     ]
    },
    {
     "name": "stderr",
     "output_type": "stream",
     "text": [
      "Training MP-SAE: 100%|██████████████████████████| 20/20 [00:17<00:00,  1.13it/s]\n"
     ]
    },
    {
     "name": "stdout",
     "output_type": "stream",
     "text": [
      "Epoch 20/20, Loss: 0.0048, Sparsity: 7.20\n",
      "TopK - R²: 0.314, MSE: 0.1023, Sparsity: 10.0\n",
      "MP-SAE - R²: 0.967, MSE: 0.0048, Sparsity: 7.2\n",
      "\n",
      "==================================================\n",
      "Training: Width=20, Sparsity=5\n",
      "==================================================\n",
      "Training TopK SAE...\n",
      "Epochs: 20, Batches per epoch: 24\n"
     ]
    },
    {
     "name": "stderr",
     "output_type": "stream",
     "text": [
      "Training TopK:  50%|██████████████              | 10/20 [00:05<00:05,  1.73it/s]"
     ]
    },
    {
     "name": "stdout",
     "output_type": "stream",
     "text": [
      "Epoch 10/20, Loss: 0.0898, Sparsity: 5.00\n"
     ]
    },
    {
     "name": "stderr",
     "output_type": "stream",
     "text": [
      "Training TopK: 100%|████████████████████████████| 20/20 [00:11<00:00,  1.78it/s]\n"
     ]
    },
    {
     "name": "stdout",
     "output_type": "stream",
     "text": [
      "Epoch 20/20, Loss: 0.0700, Sparsity: 5.00\n",
      "Training MP-SAE SAE...\n",
      "Epochs: 20, Batches per epoch: 24\n"
     ]
    },
    {
     "name": "stderr",
     "output_type": "stream",
     "text": [
      "Training MP-SAE:  50%|█████████████             | 10/20 [00:06<00:06,  1.45it/s]"
     ]
    },
    {
     "name": "stdout",
     "output_type": "stream",
     "text": [
      "Epoch 10/20, Loss: 0.0083, Sparsity: 4.94\n"
     ]
    },
    {
     "name": "stderr",
     "output_type": "stream",
     "text": [
      "Training MP-SAE: 100%|██████████████████████████| 20/20 [00:13<00:00,  1.45it/s]\n"
     ]
    },
    {
     "name": "stdout",
     "output_type": "stream",
     "text": [
      "Epoch 20/20, Loss: 0.0070, Sparsity: 4.91\n",
      "TopK - R²: 0.507, MSE: 0.0734, Sparsity: 5.0\n",
      "MP-SAE - R²: 0.952, MSE: 0.0070, Sparsity: 4.9\n",
      "\n",
      "==================================================\n",
      "Training: Width=20, Sparsity=10\n",
      "==================================================\n",
      "Training TopK SAE...\n",
      "Epochs: 20, Batches per epoch: 24\n"
     ]
    },
    {
     "name": "stderr",
     "output_type": "stream",
     "text": [
      "Training TopK:  50%|██████████████              | 10/20 [00:05<00:05,  1.84it/s]"
     ]
    },
    {
     "name": "stdout",
     "output_type": "stream",
     "text": [
      "Epoch 10/20, Loss: 0.0804, Sparsity: 10.00\n"
     ]
    },
    {
     "name": "stderr",
     "output_type": "stream",
     "text": [
      "Training TopK: 100%|████████████████████████████| 20/20 [00:11<00:00,  1.77it/s]\n"
     ]
    },
    {
     "name": "stdout",
     "output_type": "stream",
     "text": [
      "Epoch 20/20, Loss: 0.0583, Sparsity: 10.00\n",
      "Training MP-SAE SAE...\n",
      "Epochs: 20, Batches per epoch: 24\n"
     ]
    },
    {
     "name": "stderr",
     "output_type": "stream",
     "text": [
      "Training MP-SAE:  50%|█████████████             | 10/20 [00:08<00:08,  1.13it/s]"
     ]
    },
    {
     "name": "stdout",
     "output_type": "stream",
     "text": [
      "Epoch 10/20, Loss: 0.0010, Sparsity: 8.69\n"
     ]
    },
    {
     "name": "stderr",
     "output_type": "stream",
     "text": [
      "Training MP-SAE: 100%|██████████████████████████| 20/20 [00:17<00:00,  1.16it/s]"
     ]
    },
    {
     "name": "stdout",
     "output_type": "stream",
     "text": [
      "Epoch 20/20, Loss: 0.0008, Sparsity: 8.67\n",
      "TopK - R²: 0.598, MSE: 0.0591, Sparsity: 10.0\n",
      "MP-SAE - R²: 0.995, MSE: 0.0008, Sparsity: 8.7\n",
      "\n",
      "📈 Step 2: Plotting reconstruction performance comparison...\n"
     ]
    },
    {
     "name": "stderr",
     "output_type": "stream",
     "text": [
      "\n"
     ]
    },
    {
     "data": {
      "image/png": "[encoded data removed]",
      "text/plain": [
       "<Figure size 1500x400 with 2 Axes>"
      ]
     },
     "metadata": {},
     "output_type": "display_data"
    },
    {
     "name": "stdout",
     "output_type": "stream",
     "text": [
      "\n",
      "🎯 Step 3: Analyzing cosine similarities...\n",
      "Training models for cosine similarity analysis (Width=20, Sparsity=10)...\n",
      "Training TopK SAE...\n",
      "Epochs: 10, Batches per epoch: 24\n"
     ]
    },
    {
     "name": "stderr",
     "output_type": "stream",
     "text": [
      "Training TopK: 100%|████████████████████████████| 10/10 [00:05<00:00,  1.86it/s]\n"
     ]
    },
    {
     "name": "stdout",
     "output_type": "stream",
     "text": [
      "Epoch 10/10, Loss: 0.1158, Sparsity: 10.00\n",
      "Training MP-SAE SAE...\n",
      "Epochs: 10, Batches per epoch: 24\n"
     ]
    },
    {
     "name": "stderr",
     "output_type": "stream",
     "text": [
      "Training MP-SAE: 100%|██████████████████████████| 10/10 [00:08<00:00,  1.18it/s]"
     ]
    },
    {
     "name": "stdout",
     "output_type": "stream",
     "text": [
      "Epoch 10/10, Loss: 0.0016, Sparsity: 8.36\n"
     ]
    },
    {
     "name": "stderr",
     "output_type": "stream",
     "text": [
      "\n"
     ]
    },
    {
     "data": {
      "image/png": "[encoded data removed]",
      "text/plain": [
       "<Figure size 1200x500 with 3 Axes>"
      ]
     },
     "metadata": {},
     "output_type": "display_data"
    },
    {
     "name": "stdout",
     "output_type": "stream",
     "text": [
      "\n",
      "🔍 Step 4: Analyzing feature recovery...\n",
      "\n",
      "TopK Feature Recovery Analysis:\n",
      "========================================\n",
      "Feature f0: ✓ Best match: Latent 14, Similarity: 0.744\n",
      "Feature f1: ✓ Best match: Latent 9, Similarity: -0.862\n",
      "Feature f2: ✓ Best match: Latent 7, Similarity: 0.594\n",
      "Feature f3: ✓ Best match: Latent 4, Similarity: 0.545\n",
      "Feature f4: ✓ Best match: Latent 6, Similarity: -0.718\n",
      "Feature f5: ✓ Best match: Latent 18, Similarity: -0.622\n",
      "Feature f6: ✓ Best match: Latent 19, Similarity: 0.567\n",
      "Feature f7: ✓ Best match: Latent 10, Similarity: 0.731\n",
      "Feature f8: ✗ Best match: Latent 13, Similarity: 0.399\n",
      "Feature f9: ✓ Best match: Latent 17, Similarity: -0.636\n",
      "\n",
      "Overall recovery rate: 90.00%\n",
      "\n",
      "MP-SAE Feature Recovery Analysis:\n",
      "========================================\n",
      "Feature f0: ✓ Best match: Latent 14, Similarity: -0.582\n",
      "Feature f1: ✓ Best match: Latent 12, Similarity: -0.534\n",
      "Feature f2: ✓ Best match: Latent 6, Similarity: 0.643\n",
      "Feature f3: ✓ Best match: Latent 3, Similarity: 0.722\n",
      "Feature f4: ✓ Best match: Latent 1, Similarity: 0.788\n",
      "Feature f5: ✓ Best match: Latent 11, Similarity: 0.528\n",
      "Feature f6: ✓ Best match: Latent 10, Similarity: -0.709\n",
      "Feature f7: ✓ Best match: Latent 2, Similarity: -0.544\n",
      "Feature f8: ✓ Best match: Latent 6, Similarity: -0.544\n",
      "Feature f9: ✓ Best match: Latent 18, Similarity: 0.636\n",
      "\n",
      "Overall recovery rate: 100.00%\n",
      "\n",
      "🌳 Step 5: Analyzing hierarchical structure preservation...\n"
     ]
    },
    {
     "data": {
      "image/png": "[encoded data removed]",
      "text/plain": [
       "<Figure size 1200x500 with 2 Axes>"
      ]
     },
     "metadata": {},
     "output_type": "display_data"
    },
    {
     "name": "stdout",
     "output_type": "stream",
     "text": [
      "\n",
      "🧠 Step 6: Running interpretability vs reconstruction tradeoff analysis...\n",
      "Analyzing interpretability: TopK, Width=10, Sparsity=5\n",
      "Training TopK SAE...\n",
      "Epochs: 5, Batches per epoch: 24\n"
     ]
    },
    {
     "name": "stderr",
     "output_type": "stream",
     "text": [
      "Training TopK: 100%|██████████████████████████████| 5/5 [00:02<00:00,  1.78it/s]\n"
     ]
    },
    {
     "name": "stdout",
     "output_type": "stream",
     "text": [
      "Analyzing interpretability: MP-SAE, Width=10, Sparsity=5\n",
      "Training MP-SAE SAE...\n",
      "Epochs: 5, Batches per epoch: 24\n"
     ]
    },
    {
     "name": "stderr",
     "output_type": "stream",
     "text": [
      "Training MP-SAE: 100%|████████████████████████████| 5/5 [00:03<00:00,  1.46it/s]\n"
     ]
    },
    {
     "name": "stdout",
     "output_type": "stream",
     "text": [
      "Analyzing interpretability: TopK, Width=10, Sparsity=10\n",
      "Training TopK SAE...\n",
      "Epochs: 5, Batches per epoch: 24\n"
     ]
    },
    {
     "name": "stderr",
     "output_type": "stream",
     "text": [
      "Training TopK: 100%|██████████████████████████████| 5/5 [00:02<00:00,  1.77it/s]\n"
     ]
    },
    {
     "name": "stdout",
     "output_type": "stream",
     "text": [
      "Analyzing interpretability: MP-SAE, Width=10, Sparsity=10\n",
      "Training MP-SAE SAE...\n",
      "Epochs: 5, Batches per epoch: 24\n"
     ]
    },
    {
     "name": "stderr",
     "output_type": "stream",
     "text": [
      "Training MP-SAE: 100%|████████████████████████████| 5/5 [00:04<00:00,  1.16it/s]\n"
     ]
    },
    {
     "name": "stdout",
     "output_type": "stream",
     "text": [
      "Analyzing interpretability: TopK, Width=20, Sparsity=5\n",
      "Training TopK SAE...\n",
      "Epochs: 5, Batches per epoch: 24\n"
     ]
    },
    {
     "name": "stderr",
     "output_type": "stream",
     "text": [
      "Training TopK: 100%|██████████████████████████████| 5/5 [00:02<00:00,  1.76it/s]\n"
     ]
    },
    {
     "name": "stdout",
     "output_type": "stream",
     "text": [
      "Analyzing interpretability: MP-SAE, Width=20, Sparsity=5\n",
      "Training MP-SAE SAE...\n",
      "Epochs: 5, Batches per epoch: 24\n"
     ]
    },
    {
     "name": "stderr",
     "output_type": "stream",
     "text": [
      "Training MP-SAE: 100%|████████████████████████████| 5/5 [00:03<00:00,  1.45it/s]\n"
     ]
    },
    {
     "name": "stdout",
     "output_type": "stream",
     "text": [
      "Analyzing interpretability: TopK, Width=20, Sparsity=10\n",
      "Training TopK SAE...\n",
      "Epochs: 5, Batches per epoch: 24\n"
     ]
    },
    {
     "name": "stderr",
     "output_type": "stream",
     "text": [
      "Training TopK: 100%|██████████████████████████████| 5/5 [00:02<00:00,  1.98it/s]\n"
     ]
    },
    {
     "name": "stdout",
     "output_type": "stream",
     "text": [
      "Analyzing interpretability: MP-SAE, Width=20, Sparsity=10\n",
      "Training MP-SAE SAE...\n",
      "Epochs: 5, Batches per epoch: 24\n"
     ]
    },
    {
     "name": "stderr",
     "output_type": "stream",
     "text": [
      "Training MP-SAE: 100%|████████████████████████████| 5/5 [00:04<00:00,  1.16it/s]\n"
     ]
    },
    {
     "data": {
      "image/png": "[encoded data removed]",
      "text/plain": [
       "<Figure size 1200x1000 with 4 Axes>"
      ]
     },
     "metadata": {},
     "output_type": "display_data"
    },
    {
     "name": "stdout",
     "output_type": "stream",
     "text": [
      "\n",
      "📋 Step 7: Summary Statistics\n",
      "========================================\n",
      "\n",
      "TopK Summary:\n",
      "  Mean R²: 0.468 ± 0.119\n",
      "  Mean Absorption: 0.000\n",
      "  Mean Hedging: 2.187\n",
      "  Mean Interpretability: 0.314\n",
      "\n",
      "MP-SAE Summary:\n",
      "  Mean R²: 0.949 ± 0.047\n",
      "  Mean Absorption: 0.018\n",
      "  Mean Hedging: 2.204\n",
      "  Mean Interpretability: 0.310\n",
      "\n",
      "🔑 Key Findings:\n",
      "==============================\n",
      "1. Reconstruction Quality: MP-SAE outperforms TopK by 0.481 R²\n",
      "2. Feature Absorption: TopK shows more absorption (diff: -0.018)\n",
      "3. Feature Hedging: TopK shows more hedging (diff: -0.017)\n"
     ]
    }
   ],
   "source": [
    "results_df, interp_df, summary_stats = run_complete_analysis()"
   ]
  },
  {
   "cell_type": "code",
   "execution_count": null,
   "id": "1864ac33-70f1-4649-b697-d9eb3c9d2337",
   "metadata": {},
   "outputs": [],
   "source": []
  },
  {
   "cell_type": "code",
   "execution_count": null,
   "id": "1978ee2b-de8b-4165-80ce-914966c13877",
   "metadata": {},
   "outputs": [],
   "source": []
  },
  {
   "cell_type": "code",
   "execution_count": null,
   "id": "4707b450-202b-4af8-80e1-3d83f40d0e05",
   "metadata": {},
   "outputs": [],
   "source": []
  },
  {
   "cell_type": "code",
   "execution_count": null,
   "id": "f95f748f-93bd-4cc5-b2b0-833a7e0f8785",
   "metadata": {},
   "outputs": [],
   "source": []
  },
  {
   "cell_type": "code",
   "execution_count": null,
   "id": "3b67afa9-e1ca-4ea0-bff5-b9f9a9936d58",
   "metadata": {},
   "outputs": [],
   "source": []
  },
  {
   "cell_type": "code",
   "execution_count": null,
   "id": "93ea2f6a-f040-4109-8c4c-476a270d3867",
   "metadata": {},
   "outputs": [],
   "source": []
  },
  {
   "cell_type": "code",
   "execution_count": null,
   "id": "75704031-055d-4d25-8781-774b554930a8",
   "metadata": {},
   "outputs": [],
   "source": []
  },
  {
   "cell_type": "code",
   "execution_count": null,
   "id": "b375cf6c-63b4-4a33-be64-997ee55f4216",
   "metadata": {},
   "outputs": [],
   "source": []
  },
  {
   "cell_type": "code",
   "execution_count": null,
   "id": "4eca757d-7913-4471-a9d0-7984aa6cb0a7",
   "metadata": {},
   "outputs": [],
   "source": []
  },
  {
   "cell_type": "code",
   "execution_count": null,
   "id": "9800f03d-a65b-4f3b-838f-fb0e11acd416",
   "metadata": {},
   "outputs": [],
   "source": []
  },
  {
   "cell_type": "code",
   "execution_count": null,
   "id": "d91d914f-d3fb-49d4-b9a6-bf231a0693c8",
   "metadata": {},
   "outputs": [],
   "source": []
  },
  {
   "cell_type": "code",
   "execution_count": null,
   "id": "5eae23d9-0407-4daf-a81f-278a41e60c5a",
   "metadata": {},
   "outputs": [],
   "source": []
  },
  {
   "cell_type": "code",
   "execution_count": null,
   "id": "ccb033f2-9fe7-404a-a0ce-75efa6bde789",
   "metadata": {},
   "outputs": [],
   "source": []
  },
  {
   "cell_type": "code",
   "execution_count": null,
   "id": "0c56ada2-eb05-4a60-a812-02ae771d59fc",
   "metadata": {},
   "outputs": [],
   "source": []
  },
  {
   "cell_type": "code",
   "execution_count": null,
   "id": "64091bfc-76fc-4119-a5d3-c380074a07b1",
   "metadata": {},
   "outputs": [],
   "source": []
  },
  {
   "cell_type": "code",
   "execution_count": null,
   "id": "a453e2b9-f26b-479f-a8e1-e2c26fd27595",
   "metadata": {},
   "outputs": [],
   "source": []
  },
  {
   "cell_type": "code",
   "execution_count": null,
   "id": "b9ca02c4-bbe9-4ff8-81f7-0c19ffca87db",
   "metadata": {},
   "outputs": [],
   "source": []
  },
  {
   "cell_type": "code",
   "execution_count": null,
   "id": "3e0765b0-4012-4972-9814-d052950922c3",
   "metadata": {},
   "outputs": [],
   "source": []
  },
  {
   "cell_type": "code",
   "execution_count": null,
   "id": "2fea1c96-92fe-4a46-912e-c696a60c2f9c",
   "metadata": {},
   "outputs": [],
   "source": []
  },
  {
   "cell_type": "code",
   "execution_count": null,
   "id": "f7ffda5c-d7a1-42ae-8c44-c3995f038ca2",
   "metadata": {},
   "outputs": [],
   "source": []
  },
  {
   "cell_type": "code",
   "execution_count": null,
   "id": "8524207f-bbaa-4684-a8f3-cbb4b8e249c8",
   "metadata": {},
   "outputs": [],
   "source": []
  },
  {
   "cell_type": "code",
   "execution_count": null,
   "id": "f484be3e-28a6-4d0a-a82a-1ed0843fcd97",
   "metadata": {},
   "outputs": [],
   "source": []
  },
  {
   "cell_type": "code",
   "execution_count": null,
   "id": "0953fd99-c599-460f-8a7d-c3073ac8e56f",
   "metadata": {},
   "outputs": [],
   "source": []
  },
  {
   "cell_type": "code",
   "execution_count": null,
   "id": "db974fa9-1b37-477f-9e08-622131c1a987",
   "metadata": {},
   "outputs": [],
   "source": []
  },
  {
   "cell_type": "code",
   "execution_count": null,
   "id": "53d4a3f2-7b7c-4874-8e54-99aec4b5a028",
   "metadata": {},
   "outputs": [],
   "source": []
  },
  {
   "cell_type": "code",
   "execution_count": null,
   "id": "5be3255d-d300-42ac-887d-df5f9ba83b6c",
   "metadata": {},
   "outputs": [],
   "source": []
  },
  {
   "cell_type": "code",
   "execution_count": null,
   "id": "85aa57c6-6c8a-48c9-9e2f-28bf765f5b80",
   "metadata": {},
   "outputs": [],
   "source": []
  },
  {
   "cell_type": "code",
   "execution_count": null,
   "id": "4acc71ac-251f-43f4-9caf-141a2bad489e",
   "metadata": {},
   "outputs": [],
   "source": []
  },
  {
   "cell_type": "code",
   "execution_count": null,
   "id": "6757c2eb-53af-4fd1-992a-5ed705e7567e",
   "metadata": {},
   "outputs": [],
   "source": []
  },
  {
   "cell_type": "code",
   "execution_count": null,
   "id": "33daa462-65da-4052-89d2-6ad2dd94cc18",
   "metadata": {},
   "outputs": [],
   "source": []
  },
  {
   "cell_type": "code",
   "execution_count": null,
   "id": "3c7646e1-eefc-4cca-8f03-21929254adc1",
   "metadata": {},
   "outputs": [],
   "source": []
  },
  {
   "cell_type": "code",
   "execution_count": null,
   "id": "3524659c-02d3-4e3f-b2ac-686dc36ab35c",
   "metadata": {},
   "outputs": [],
   "source": []
  },
  {
   "cell_type": "code",
   "execution_count": null,
   "id": "279c7c4a-4a4e-4607-909b-3c4ca154dc88",
   "metadata": {},
   "outputs": [],
   "source": []
  }
 ],
 "metadata": {
  "kernelspec": {
   "display_name": "Python 3 (ipykernel)",
   "language": "python",
   "name": "python3"
  },
  "language_info": {
   "codemirror_mode": {
    "name": "ipython",
    "version": 3
   },
   "file_extension": ".py",
   "mimetype": "text/x-python",
   "name": "python",
   "nbconvert_exporter": "python",
   "pygments_lexer": "ipython3",
   "version": "3.10.12"
  }
 },
 "nbformat": 4,
 "nbformat_minor": 5
}
